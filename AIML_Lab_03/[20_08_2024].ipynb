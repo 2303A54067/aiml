{
  "nbformat": 4,
  "nbformat_minor": 0,
  "metadata": {
    "colab": {
      "provenance": [],
      "authorship_tag": "ABX9TyOWKwwWyLqPQcFhEmwtZ2Xh",
      "include_colab_link": true
    },
    "kernelspec": {
      "name": "python3",
      "display_name": "Python 3"
    },
    "language_info": {
      "name": "python"
    }
  },
  "cells": [
    {
      "cell_type": "markdown",
      "metadata": {
        "id": "view-in-github",
        "colab_type": "text"
      },
      "source": [
        "<a href=\"https://colab.research.google.com/github/2303A54067/aiml/blob/main/AIML_Lab_03/%5B20_08_2024%5D.ipynb\" target=\"_parent\"><img src=\"https://colab.research.google.com/assets/colab-badge.svg\" alt=\"Open In Colab\"/></a>"
      ]
    },
    {
      "cell_type": "code",
      "execution_count": null,
      "metadata": {
        "id": "FmsmjecJ4NA_"
      },
      "outputs": [],
      "source": [
        "# Define the adjacency list representing the graph (DFS)\n",
        "graph1 = {\n",
        "    'A' : ['B', 'C', 'D', 'G'],\n",
        "    'B' : ['A'],\n",
        "    'C' : ['A', 'D', 'F'],\n",
        "    'D' : ['A', 'C', 'E', 'G', 'H'],\n",
        "    'E' : ['D', 'F', 'H'],\n",
        "    'F' : ['C', 'E'],\n",
        "    'G' : ['A', 'D', 'H'],\n",
        "    'H' : ['D', 'E', 'G'],\n",
        "}"
      ]
    },
    {
      "cell_type": "code",
      "source": [
        "print(\"The adjacency list representing the graph is:\")\n",
        "print(graph1)"
      ],
      "metadata": {
        "id": "sRLXO9VgAKsn",
        "outputId": "0f9ef7d2-4918-448b-90d0-191ac1cb37f4",
        "colab": {
          "base_uri": "https://localhost:8080/"
        }
      },
      "execution_count": null,
      "outputs": [
        {
          "output_type": "stream",
          "name": "stdout",
          "text": [
            "The adjacency list representing the graph is:\n",
            "{'A': ['B', 'C', 'D', 'G'], 'B': ['A'], 'C': ['A', 'D', 'F'], 'D': ['A', 'C', 'E', 'G', 'H'], 'E': ['D', 'F', 'H'], 'F': ['C', 'E'], 'G': ['A', 'D', 'H'], 'H': ['D', 'E', 'G']}\n"
          ]
        }
      ]
    },
    {
      "cell_type": "code",
      "source": [
        "# Define the DFS function\n",
        "def dfs(graph, node, visited):\n",
        "  if node not in visited:\n",
        "    visited.append(node)\n",
        "    for k in graph[node]:\n",
        "      dfs(graph, k, visited)\n",
        "  return visited\n",
        "visited = dfs(graph1, 'B', [])"
      ],
      "metadata": {
        "id": "YZW1ZgsGAc4K"
      },
      "execution_count": null,
      "outputs": []
    },
    {
      "cell_type": "code",
      "source": [
        "print(visited)"
      ],
      "metadata": {
        "colab": {
          "base_uri": "https://localhost:8080/"
        },
        "id": "mlYXNP5gClYb",
        "outputId": "7abbfd5b-4538-4163-915a-5886f703d47c"
      },
      "execution_count": null,
      "outputs": [
        {
          "output_type": "stream",
          "name": "stdout",
          "text": [
            "['B', 'A', 'C', 'D', 'E', 'F', 'H', 'G']\n"
          ]
        }
      ]
    },
    {
      "cell_type": "code",
      "source": [
        "# BFS\n",
        "import numpy as np\n",
        "from queue import Queue\n",
        "import heapq\n",
        "def bestFirstSearch(initial_state, goal_state, evaluation_function):\n",
        "  priority_queue = []\n",
        "  heapq.heappush(priority_queue, (evaluation_function(initial_state), initial_state))\n",
        "  while priority_queue:\n",
        "    current_state = heapq.heappop(priority_queue)[1]\n",
        "    if current_state == goal_state:\n",
        "      return current_state\n",
        "\n",
        "      next_state = generateNextStates(current_state)\n",
        "      for next_state in next_states:\n",
        "        priority_value = evaluation_function(next_state)\n",
        "        heapq.heappush(priority_queue, (priority_value, next_state))\n",
        "    return \"No solution found\"\n",
        "\n",
        "def evaluation_function(state):\n",
        "  return abs(state[0] - goal_state[0]) + abs(state[1] - goal_state[1])\n",
        "\n",
        "def generateNextStates(state):\n",
        "  x, y = state\n",
        "  next_state = [(x+1, y), (x-1, y), (x, y+1), (x, y-1)]\n",
        "  return [s for s in next_states if 0<=s[0]<4 and 0<=s[1]<4]\n",
        "\n",
        "  initial_state=(0,0)\n",
        "  goal_state=(4,4)\n",
        "\n",
        "  result=bestFirstSearch(initial_state,goal_state,evaluationFunction)\n",
        "  print(\"The Best First Search Traversal is:\")\n",
        "  print(result)"
      ],
      "metadata": {
        "id": "0etQOoS8Cn_X"
      },
      "execution_count": null,
      "outputs": []
    },
    {
      "cell_type": "code",
      "source": [],
      "metadata": {
        "id": "8ZXNt9EfH3x2"
      },
      "execution_count": null,
      "outputs": []
    }
  ]
}